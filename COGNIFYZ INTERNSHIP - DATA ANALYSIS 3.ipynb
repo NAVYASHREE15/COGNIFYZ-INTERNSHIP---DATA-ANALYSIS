{
 "cells": [
  {
   "cell_type": "markdown",
   "id": "5b552671",
   "metadata": {},
   "source": [
    "# COGNIFYZ INTERNSHIP - DATA ANALYSIS"
   ]
  },
  {
   "cell_type": "markdown",
   "id": "1e36ce3f",
   "metadata": {},
   "source": [
    "## LEVEL - 3"
   ]
  },
  {
   "cell_type": "markdown",
   "id": "df761eb9",
   "metadata": {},
   "source": [
    "## Restaurant Reviews - Task 1"
   ]
  },
  {
   "cell_type": "markdown",
   "id": "96a1ab84",
   "metadata": {},
   "source": [
    "### 1. Analyze The Text Reviews To Identify The Most Common Positive and Negative Keywords.\n",
    "### 2. Calculate The Average Length Of Reviews and Explore If There Is a Relationship Between Review Length and Rating."
   ]
  },
  {
   "cell_type": "markdown",
   "id": "4c4e2557",
   "metadata": {},
   "source": [
    "### Import Required Packages"
   ]
  },
  {
   "cell_type": "code",
   "execution_count": 1,
   "id": "f6d7efb8",
   "metadata": {},
   "outputs": [],
   "source": [
    "import pandas as pd\n",
    "import numpy as np\n",
    "import seaborn as sns\n",
    "import matplotlib.pyplot as plt\n",
    "import warnings\n",
    "warnings.filterwarnings('ignore')"
   ]
  },
  {
   "cell_type": "code",
   "execution_count": 2,
   "id": "526c574d",
   "metadata": {},
   "outputs": [],
   "source": [
    "from nltk.sentiment import SentimentIntensityAnalyzer\n",
    "from nltk.tokenize import word_tokenize\n",
    "from nltk.corpus import stopwords\n",
    "from collections import Counter"
   ]
  },
  {
   "cell_type": "code",
   "execution_count": 3,
   "id": "233173d4",
   "metadata": {},
   "outputs": [],
   "source": [
    "import nltk\n",
    "\n",
    "# nltk.download('vader_lexicon')\n",
    "# nltk.download('stopwords')\n",
    "# nltk.download('punkt')"
   ]
  },
  {
   "cell_type": "markdown",
   "id": "dc5e1123",
   "metadata": {},
   "source": [
    "### Read The Data"
   ]
  },
  {
   "cell_type": "code",
   "execution_count": 4,
   "id": "4627e790",
   "metadata": {},
   "outputs": [
    {
     "data": {
      "text/html": [
       "<div>\n",
       "<style scoped>\n",
       "    .dataframe tbody tr th:only-of-type {\n",
       "        vertical-align: middle;\n",
       "    }\n",
       "\n",
       "    .dataframe tbody tr th {\n",
       "        vertical-align: top;\n",
       "    }\n",
       "\n",
       "    .dataframe thead th {\n",
       "        text-align: right;\n",
       "    }\n",
       "</style>\n",
       "<table border=\"1\" class=\"dataframe\">\n",
       "  <thead>\n",
       "    <tr style=\"text-align: right;\">\n",
       "      <th></th>\n",
       "      <th>Restaurant ID</th>\n",
       "      <th>Restaurant Name</th>\n",
       "      <th>Country Code</th>\n",
       "      <th>City</th>\n",
       "      <th>Address</th>\n",
       "      <th>Locality</th>\n",
       "      <th>Locality Verbose</th>\n",
       "      <th>Longitude</th>\n",
       "      <th>Latitude</th>\n",
       "      <th>Cuisines</th>\n",
       "      <th>...</th>\n",
       "      <th>Currency</th>\n",
       "      <th>Has Table booking</th>\n",
       "      <th>Has Online delivery</th>\n",
       "      <th>Is delivering now</th>\n",
       "      <th>Switch to order menu</th>\n",
       "      <th>Price range</th>\n",
       "      <th>Aggregate rating</th>\n",
       "      <th>Rating color</th>\n",
       "      <th>Rating text</th>\n",
       "      <th>Votes</th>\n",
       "    </tr>\n",
       "  </thead>\n",
       "  <tbody>\n",
       "    <tr>\n",
       "      <th>0</th>\n",
       "      <td>6317637</td>\n",
       "      <td>Le Petit Souffle</td>\n",
       "      <td>162</td>\n",
       "      <td>Makati City</td>\n",
       "      <td>Third Floor, Century City Mall, Kalayaan Avenu...</td>\n",
       "      <td>Century City Mall, Poblacion, Makati City</td>\n",
       "      <td>Century City Mall, Poblacion, Makati City, Mak...</td>\n",
       "      <td>121.027535</td>\n",
       "      <td>14.565443</td>\n",
       "      <td>French, Japanese, Desserts</td>\n",
       "      <td>...</td>\n",
       "      <td>Botswana Pula(P)</td>\n",
       "      <td>Yes</td>\n",
       "      <td>No</td>\n",
       "      <td>No</td>\n",
       "      <td>No</td>\n",
       "      <td>3</td>\n",
       "      <td>4.8</td>\n",
       "      <td>Dark Green</td>\n",
       "      <td>Excellent</td>\n",
       "      <td>314</td>\n",
       "    </tr>\n",
       "    <tr>\n",
       "      <th>1</th>\n",
       "      <td>6304287</td>\n",
       "      <td>Izakaya Kikufuji</td>\n",
       "      <td>162</td>\n",
       "      <td>Makati City</td>\n",
       "      <td>Little Tokyo, 2277 Chino Roces Avenue, Legaspi...</td>\n",
       "      <td>Little Tokyo, Legaspi Village, Makati City</td>\n",
       "      <td>Little Tokyo, Legaspi Village, Makati City, Ma...</td>\n",
       "      <td>121.014101</td>\n",
       "      <td>14.553708</td>\n",
       "      <td>Japanese</td>\n",
       "      <td>...</td>\n",
       "      <td>Botswana Pula(P)</td>\n",
       "      <td>Yes</td>\n",
       "      <td>No</td>\n",
       "      <td>No</td>\n",
       "      <td>No</td>\n",
       "      <td>3</td>\n",
       "      <td>4.5</td>\n",
       "      <td>Dark Green</td>\n",
       "      <td>Excellent</td>\n",
       "      <td>591</td>\n",
       "    </tr>\n",
       "    <tr>\n",
       "      <th>2</th>\n",
       "      <td>6300002</td>\n",
       "      <td>Heat - Edsa Shangri-La</td>\n",
       "      <td>162</td>\n",
       "      <td>Mandaluyong City</td>\n",
       "      <td>Edsa Shangri-La, 1 Garden Way, Ortigas, Mandal...</td>\n",
       "      <td>Edsa Shangri-La, Ortigas, Mandaluyong City</td>\n",
       "      <td>Edsa Shangri-La, Ortigas, Mandaluyong City, Ma...</td>\n",
       "      <td>121.056831</td>\n",
       "      <td>14.581404</td>\n",
       "      <td>Seafood, Asian, Filipino, Indian</td>\n",
       "      <td>...</td>\n",
       "      <td>Botswana Pula(P)</td>\n",
       "      <td>Yes</td>\n",
       "      <td>No</td>\n",
       "      <td>No</td>\n",
       "      <td>No</td>\n",
       "      <td>4</td>\n",
       "      <td>4.4</td>\n",
       "      <td>Green</td>\n",
       "      <td>Very Good</td>\n",
       "      <td>270</td>\n",
       "    </tr>\n",
       "    <tr>\n",
       "      <th>3</th>\n",
       "      <td>6318506</td>\n",
       "      <td>Ooma</td>\n",
       "      <td>162</td>\n",
       "      <td>Mandaluyong City</td>\n",
       "      <td>Third Floor, Mega Fashion Hall, SM Megamall, O...</td>\n",
       "      <td>SM Megamall, Ortigas, Mandaluyong City</td>\n",
       "      <td>SM Megamall, Ortigas, Mandaluyong City, Mandal...</td>\n",
       "      <td>121.056475</td>\n",
       "      <td>14.585318</td>\n",
       "      <td>Japanese, Sushi</td>\n",
       "      <td>...</td>\n",
       "      <td>Botswana Pula(P)</td>\n",
       "      <td>No</td>\n",
       "      <td>No</td>\n",
       "      <td>No</td>\n",
       "      <td>No</td>\n",
       "      <td>4</td>\n",
       "      <td>4.9</td>\n",
       "      <td>Dark Green</td>\n",
       "      <td>Excellent</td>\n",
       "      <td>365</td>\n",
       "    </tr>\n",
       "    <tr>\n",
       "      <th>4</th>\n",
       "      <td>6314302</td>\n",
       "      <td>Sambo Kojin</td>\n",
       "      <td>162</td>\n",
       "      <td>Mandaluyong City</td>\n",
       "      <td>Third Floor, Mega Atrium, SM Megamall, Ortigas...</td>\n",
       "      <td>SM Megamall, Ortigas, Mandaluyong City</td>\n",
       "      <td>SM Megamall, Ortigas, Mandaluyong City, Mandal...</td>\n",
       "      <td>121.057508</td>\n",
       "      <td>14.584450</td>\n",
       "      <td>Japanese, Korean</td>\n",
       "      <td>...</td>\n",
       "      <td>Botswana Pula(P)</td>\n",
       "      <td>Yes</td>\n",
       "      <td>No</td>\n",
       "      <td>No</td>\n",
       "      <td>No</td>\n",
       "      <td>4</td>\n",
       "      <td>4.8</td>\n",
       "      <td>Dark Green</td>\n",
       "      <td>Excellent</td>\n",
       "      <td>229</td>\n",
       "    </tr>\n",
       "    <tr>\n",
       "      <th>...</th>\n",
       "      <td>...</td>\n",
       "      <td>...</td>\n",
       "      <td>...</td>\n",
       "      <td>...</td>\n",
       "      <td>...</td>\n",
       "      <td>...</td>\n",
       "      <td>...</td>\n",
       "      <td>...</td>\n",
       "      <td>...</td>\n",
       "      <td>...</td>\n",
       "      <td>...</td>\n",
       "      <td>...</td>\n",
       "      <td>...</td>\n",
       "      <td>...</td>\n",
       "      <td>...</td>\n",
       "      <td>...</td>\n",
       "      <td>...</td>\n",
       "      <td>...</td>\n",
       "      <td>...</td>\n",
       "      <td>...</td>\n",
       "      <td>...</td>\n",
       "    </tr>\n",
       "    <tr>\n",
       "      <th>9546</th>\n",
       "      <td>5915730</td>\n",
       "      <td>Naml۱ Gurme</td>\n",
       "      <td>208</td>\n",
       "      <td>��stanbul</td>\n",
       "      <td>Kemanke�� Karamustafa Pa��a Mahallesi, R۱ht۱m ...</td>\n",
       "      <td>Karak�_y</td>\n",
       "      <td>Karak�_y, ��stanbul</td>\n",
       "      <td>28.977392</td>\n",
       "      <td>41.022793</td>\n",
       "      <td>Turkish</td>\n",
       "      <td>...</td>\n",
       "      <td>Turkish Lira(TL)</td>\n",
       "      <td>No</td>\n",
       "      <td>No</td>\n",
       "      <td>No</td>\n",
       "      <td>No</td>\n",
       "      <td>3</td>\n",
       "      <td>4.1</td>\n",
       "      <td>Green</td>\n",
       "      <td>Very Good</td>\n",
       "      <td>788</td>\n",
       "    </tr>\n",
       "    <tr>\n",
       "      <th>9547</th>\n",
       "      <td>5908749</td>\n",
       "      <td>Ceviz A��ac۱</td>\n",
       "      <td>208</td>\n",
       "      <td>��stanbul</td>\n",
       "      <td>Ko��uyolu Mahallesi, Muhittin ��st�_nda�� Cadd...</td>\n",
       "      <td>Ko��uyolu</td>\n",
       "      <td>Ko��uyolu, ��stanbul</td>\n",
       "      <td>29.041297</td>\n",
       "      <td>41.009847</td>\n",
       "      <td>World Cuisine, Patisserie, Cafe</td>\n",
       "      <td>...</td>\n",
       "      <td>Turkish Lira(TL)</td>\n",
       "      <td>No</td>\n",
       "      <td>No</td>\n",
       "      <td>No</td>\n",
       "      <td>No</td>\n",
       "      <td>3</td>\n",
       "      <td>4.2</td>\n",
       "      <td>Green</td>\n",
       "      <td>Very Good</td>\n",
       "      <td>1034</td>\n",
       "    </tr>\n",
       "    <tr>\n",
       "      <th>9548</th>\n",
       "      <td>5915807</td>\n",
       "      <td>Huqqa</td>\n",
       "      <td>208</td>\n",
       "      <td>��stanbul</td>\n",
       "      <td>Kuru�_e��me Mahallesi, Muallim Naci Caddesi, N...</td>\n",
       "      <td>Kuru�_e��me</td>\n",
       "      <td>Kuru�_e��me, ��stanbul</td>\n",
       "      <td>29.034640</td>\n",
       "      <td>41.055817</td>\n",
       "      <td>Italian, World Cuisine</td>\n",
       "      <td>...</td>\n",
       "      <td>Turkish Lira(TL)</td>\n",
       "      <td>No</td>\n",
       "      <td>No</td>\n",
       "      <td>No</td>\n",
       "      <td>No</td>\n",
       "      <td>4</td>\n",
       "      <td>3.7</td>\n",
       "      <td>Yellow</td>\n",
       "      <td>Good</td>\n",
       "      <td>661</td>\n",
       "    </tr>\n",
       "    <tr>\n",
       "      <th>9549</th>\n",
       "      <td>5916112</td>\n",
       "      <td>A���k Kahve</td>\n",
       "      <td>208</td>\n",
       "      <td>��stanbul</td>\n",
       "      <td>Kuru�_e��me Mahallesi, Muallim Naci Caddesi, N...</td>\n",
       "      <td>Kuru�_e��me</td>\n",
       "      <td>Kuru�_e��me, ��stanbul</td>\n",
       "      <td>29.036019</td>\n",
       "      <td>41.057979</td>\n",
       "      <td>Restaurant Cafe</td>\n",
       "      <td>...</td>\n",
       "      <td>Turkish Lira(TL)</td>\n",
       "      <td>No</td>\n",
       "      <td>No</td>\n",
       "      <td>No</td>\n",
       "      <td>No</td>\n",
       "      <td>4</td>\n",
       "      <td>4.0</td>\n",
       "      <td>Green</td>\n",
       "      <td>Very Good</td>\n",
       "      <td>901</td>\n",
       "    </tr>\n",
       "    <tr>\n",
       "      <th>9550</th>\n",
       "      <td>5927402</td>\n",
       "      <td>Walter's Coffee Roastery</td>\n",
       "      <td>208</td>\n",
       "      <td>��stanbul</td>\n",
       "      <td>Cafea��a Mahallesi, Bademalt۱ Sokak, No 21/B, ...</td>\n",
       "      <td>Moda</td>\n",
       "      <td>Moda, ��stanbul</td>\n",
       "      <td>29.026016</td>\n",
       "      <td>40.984776</td>\n",
       "      <td>Cafe</td>\n",
       "      <td>...</td>\n",
       "      <td>Turkish Lira(TL)</td>\n",
       "      <td>No</td>\n",
       "      <td>No</td>\n",
       "      <td>No</td>\n",
       "      <td>No</td>\n",
       "      <td>2</td>\n",
       "      <td>4.0</td>\n",
       "      <td>Green</td>\n",
       "      <td>Very Good</td>\n",
       "      <td>591</td>\n",
       "    </tr>\n",
       "  </tbody>\n",
       "</table>\n",
       "<p>9551 rows × 21 columns</p>\n",
       "</div>"
      ],
      "text/plain": [
       "      Restaurant ID           Restaurant Name  Country Code              City  \\\n",
       "0           6317637          Le Petit Souffle           162       Makati City   \n",
       "1           6304287          Izakaya Kikufuji           162       Makati City   \n",
       "2           6300002    Heat - Edsa Shangri-La           162  Mandaluyong City   \n",
       "3           6318506                      Ooma           162  Mandaluyong City   \n",
       "4           6314302               Sambo Kojin           162  Mandaluyong City   \n",
       "...             ...                       ...           ...               ...   \n",
       "9546        5915730               Naml۱ Gurme           208         ��stanbul   \n",
       "9547        5908749              Ceviz A��ac۱           208         ��stanbul   \n",
       "9548        5915807                     Huqqa           208         ��stanbul   \n",
       "9549        5916112               A���k Kahve           208         ��stanbul   \n",
       "9550        5927402  Walter's Coffee Roastery           208         ��stanbul   \n",
       "\n",
       "                                                Address  \\\n",
       "0     Third Floor, Century City Mall, Kalayaan Avenu...   \n",
       "1     Little Tokyo, 2277 Chino Roces Avenue, Legaspi...   \n",
       "2     Edsa Shangri-La, 1 Garden Way, Ortigas, Mandal...   \n",
       "3     Third Floor, Mega Fashion Hall, SM Megamall, O...   \n",
       "4     Third Floor, Mega Atrium, SM Megamall, Ortigas...   \n",
       "...                                                 ...   \n",
       "9546  Kemanke�� Karamustafa Pa��a Mahallesi, R۱ht۱m ...   \n",
       "9547  Ko��uyolu Mahallesi, Muhittin ��st�_nda�� Cadd...   \n",
       "9548  Kuru�_e��me Mahallesi, Muallim Naci Caddesi, N...   \n",
       "9549  Kuru�_e��me Mahallesi, Muallim Naci Caddesi, N...   \n",
       "9550  Cafea��a Mahallesi, Bademalt۱ Sokak, No 21/B, ...   \n",
       "\n",
       "                                        Locality  \\\n",
       "0      Century City Mall, Poblacion, Makati City   \n",
       "1     Little Tokyo, Legaspi Village, Makati City   \n",
       "2     Edsa Shangri-La, Ortigas, Mandaluyong City   \n",
       "3         SM Megamall, Ortigas, Mandaluyong City   \n",
       "4         SM Megamall, Ortigas, Mandaluyong City   \n",
       "...                                          ...   \n",
       "9546                                    Karak�_y   \n",
       "9547                                   Ko��uyolu   \n",
       "9548                                 Kuru�_e��me   \n",
       "9549                                 Kuru�_e��me   \n",
       "9550                                        Moda   \n",
       "\n",
       "                                       Locality Verbose   Longitude  \\\n",
       "0     Century City Mall, Poblacion, Makati City, Mak...  121.027535   \n",
       "1     Little Tokyo, Legaspi Village, Makati City, Ma...  121.014101   \n",
       "2     Edsa Shangri-La, Ortigas, Mandaluyong City, Ma...  121.056831   \n",
       "3     SM Megamall, Ortigas, Mandaluyong City, Mandal...  121.056475   \n",
       "4     SM Megamall, Ortigas, Mandaluyong City, Mandal...  121.057508   \n",
       "...                                                 ...         ...   \n",
       "9546                                Karak�_y, ��stanbul   28.977392   \n",
       "9547                               Ko��uyolu, ��stanbul   29.041297   \n",
       "9548                             Kuru�_e��me, ��stanbul   29.034640   \n",
       "9549                             Kuru�_e��me, ��stanbul   29.036019   \n",
       "9550                                    Moda, ��stanbul   29.026016   \n",
       "\n",
       "       Latitude                          Cuisines  ...          Currency  \\\n",
       "0     14.565443        French, Japanese, Desserts  ...  Botswana Pula(P)   \n",
       "1     14.553708                          Japanese  ...  Botswana Pula(P)   \n",
       "2     14.581404  Seafood, Asian, Filipino, Indian  ...  Botswana Pula(P)   \n",
       "3     14.585318                   Japanese, Sushi  ...  Botswana Pula(P)   \n",
       "4     14.584450                  Japanese, Korean  ...  Botswana Pula(P)   \n",
       "...         ...                               ...  ...               ...   \n",
       "9546  41.022793                           Turkish  ...  Turkish Lira(TL)   \n",
       "9547  41.009847   World Cuisine, Patisserie, Cafe  ...  Turkish Lira(TL)   \n",
       "9548  41.055817            Italian, World Cuisine  ...  Turkish Lira(TL)   \n",
       "9549  41.057979                   Restaurant Cafe  ...  Turkish Lira(TL)   \n",
       "9550  40.984776                              Cafe  ...  Turkish Lira(TL)   \n",
       "\n",
       "     Has Table booking Has Online delivery Is delivering now  \\\n",
       "0                  Yes                  No                No   \n",
       "1                  Yes                  No                No   \n",
       "2                  Yes                  No                No   \n",
       "3                   No                  No                No   \n",
       "4                  Yes                  No                No   \n",
       "...                ...                 ...               ...   \n",
       "9546                No                  No                No   \n",
       "9547                No                  No                No   \n",
       "9548                No                  No                No   \n",
       "9549                No                  No                No   \n",
       "9550                No                  No                No   \n",
       "\n",
       "     Switch to order menu Price range  Aggregate rating  Rating color  \\\n",
       "0                      No           3               4.8    Dark Green   \n",
       "1                      No           3               4.5    Dark Green   \n",
       "2                      No           4               4.4         Green   \n",
       "3                      No           4               4.9    Dark Green   \n",
       "4                      No           4               4.8    Dark Green   \n",
       "...                   ...         ...               ...           ...   \n",
       "9546                   No           3               4.1         Green   \n",
       "9547                   No           3               4.2         Green   \n",
       "9548                   No           4               3.7        Yellow   \n",
       "9549                   No           4               4.0         Green   \n",
       "9550                   No           2               4.0         Green   \n",
       "\n",
       "     Rating text Votes  \n",
       "0      Excellent   314  \n",
       "1      Excellent   591  \n",
       "2      Very Good   270  \n",
       "3      Excellent   365  \n",
       "4      Excellent   229  \n",
       "...          ...   ...  \n",
       "9546   Very Good   788  \n",
       "9547   Very Good  1034  \n",
       "9548        Good   661  \n",
       "9549   Very Good   901  \n",
       "9550   Very Good   591  \n",
       "\n",
       "[9551 rows x 21 columns]"
      ]
     },
     "execution_count": 4,
     "metadata": {},
     "output_type": "execute_result"
    }
   ],
   "source": [
    "file_path=(\"C:\\\\Users\\\\Navya\\\\OneDrive\\\\Desktop\\\\OneDrive\\\\Documents\\\\Cognifyz_Dataset 1.csv\")\n",
    "Cognifyz_df=pd.read_csv(file_path)\n",
    "Cognifyz_df"
   ]
  },
  {
   "cell_type": "markdown",
   "id": "2c7e4213",
   "metadata": {},
   "source": [
    "## Restaurant Reviews - Task 1"
   ]
  },
  {
   "cell_type": "markdown",
   "id": "fa9d5712",
   "metadata": {},
   "source": [
    "### 1. Analyze The Text Reviews To Identify The Most Common Positive and Negative Keywords."
   ]
  },
  {
   "cell_type": "code",
   "execution_count": 5,
   "id": "198d856e",
   "metadata": {},
   "outputs": [
    {
     "data": {
      "text/plain": [
       "0       Excellent\n",
       "1       Excellent\n",
       "2       Very Good\n",
       "3       Excellent\n",
       "4       Excellent\n",
       "          ...    \n",
       "9546    Very Good\n",
       "9547    Very Good\n",
       "9548         Good\n",
       "9549    Very Good\n",
       "9550    Very Good\n",
       "Name: Rating text, Length: 9551, dtype: object"
      ]
     },
     "execution_count": 5,
     "metadata": {},
     "output_type": "execute_result"
    }
   ],
   "source": [
    "rating_texts=Cognifyz_df['Rating text']\n",
    "rating_texts"
   ]
  },
  {
   "cell_type": "code",
   "execution_count": 6,
   "id": "19224ab9",
   "metadata": {},
   "outputs": [
    {
     "name": "stderr",
     "output_type": "stream",
     "text": [
      "[nltk_data] Downloading package vader_lexicon to\n",
      "[nltk_data]     C:\\Users\\Navya\\AppData\\Roaming\\nltk_data...\n",
      "[nltk_data]   Package vader_lexicon is already up-to-date!\n"
     ]
    }
   ],
   "source": [
    "import nltk\n",
    "from nltk.sentiment import SentimentIntensityAnalyzer\n",
    "from nltk.corpus import stopwords\n",
    "\n",
    "# Download The Vodar_Lexicon Resource\n",
    "nltk.download('vader_lexicon')\n",
    "\n",
    "# Your Existing Code\n",
    "sia = SentimentIntensityAnalyzer()\n",
    "stop_words = set(stopwords.words('english'))\n",
    "\n",
    "# Rest Of Your Code."
   ]
  },
  {
   "cell_type": "code",
   "execution_count": 7,
   "id": "22fc0f89",
   "metadata": {},
   "outputs": [],
   "source": [
    "positive=[]\n",
    "negative=[]"
   ]
  },
  {
   "cell_type": "code",
   "execution_count": 8,
   "id": "4957745a-b4c1-498c-b9d6-288ddd86f201",
   "metadata": {},
   "outputs": [],
   "source": [
    "for rating_text in rating_texts:\n",
    "    tokens=word_tokenize(rating_text.lower())\n",
    "    tokens=[token for token in tokens if token.isalpha() and token not in stop_words]\n",
    "    \n",
    "    sentiment_score=sia.polarity_scores(rating_text)['compound']\n",
    "    \n",
    "    if sentiment_score>=0.2:\n",
    "        positive.extend(tokens)\n",
    "    elif sentiment_score<=0.2:\n",
    "         negative.extend(tokens)"
   ]
  },
  {
   "cell_type": "code",
   "execution_count": 9,
   "id": "5a68009e-13a2-4c23-9a06-752a916156e8",
   "metadata": {},
   "outputs": [],
   "source": [
    "positive_counts=Counter(positive)\n",
    "negative_counts=Counter(negative)"
   ]
  },
  {
   "cell_type": "code",
   "execution_count": 10,
   "id": "8425c06d-fcaf-4bdd-9db8-cf1355e11360",
   "metadata": {},
   "outputs": [
    {
     "name": "stdout",
     "output_type": "stream",
     "text": [
      "\n",
      "Top Positive:\n",
      "good:3179 times\n",
      "excellent:301 times\n"
     ]
    }
   ],
   "source": [
    "num_top_keywords = 10\n",
    "print('\\nTop Positive:')\n",
    "for keyword, count in positive_counts.most_common(num_top_keywords):\n",
    "    print(f\"{keyword}:{count} times\")"
   ]
  },
  {
   "cell_type": "code",
   "execution_count": 11,
   "id": "5d3c614f-f2be-4070-ba22-8b4ebb3b1075",
   "metadata": {},
   "outputs": [
    {
     "name": "stdout",
     "output_type": "stream",
     "text": [
      "\n",
      "Top Negative Keywords:\n",
      "average:3737 times\n",
      "rated:2148 times\n",
      "poor:186 times\n"
     ]
    }
   ],
   "source": [
    "print('\\nTop Negative Keywords:')\n",
    "for keyword, count in negative_counts.most_common(num_top_keywords):\n",
    "    print(f\"{keyword}:{count} times\")"
   ]
  },
  {
   "cell_type": "markdown",
   "id": "565e1396-2a3b-4344-897d-593f39521bce",
   "metadata": {},
   "source": [
    "### 2. Calculate The Average Length Of Reviews and Explore If There Is a Relationship Between Review Length and Rating."
   ]
  },
  {
   "cell_type": "code",
   "execution_count": 12,
   "id": "cc5e045f-a52e-49b7-b257-7fea55aab285",
   "metadata": {},
   "outputs": [],
   "source": [
    "Cognifyz_df_analyzed = Cognifyz_df[['Rating text', 'Aggregate rating']].copy()\n",
    "Cognifyz_df_analyzed['Review Length'] = Cognifyz_df_analyzed['Rating text'].apply(lambda x: len(str(x)))\n",
    "average_rev_len = Cognifyz_df_analyzed.groupby('Aggregate rating')['Review Length'].mean()"
   ]
  },
  {
   "cell_type": "code",
   "execution_count": 13,
   "id": "990af782-10d3-4980-aa61-9508b4f932a1",
   "metadata": {},
   "outputs": [
    {
     "data": {
      "image/png": "[encoded data removed]",
      "text/plain": [
       "<Figure size 500x500 with 1 Axes>"
      ]
     },
     "metadata": {},
     "output_type": "display_data"
    }
   ],
   "source": [
    "import matplotlib.pyplot as plt\n",
    "\n",
    "plt.figure(figsize=(5, 5))\n",
    "average_rev_len.plot(kind='bar', color='black')\n",
    "plt.title('Average Review Length For Each Rating Category')\n",
    "plt.xlabel('Aggregate Rating')\n",
    "plt.ylabel('Average review length character')\n",
    "plt.show()"
   ]
  },
  {
   "cell_type": "markdown",
   "id": "078d9c78-cc3f-4ebb-b8ca-dc523c9662c5",
   "metadata": {},
   "source": [
    "## Votes Analysis - Task 2"
   ]
  },
  {
   "cell_type": "markdown",
   "id": "4038019c-9f35-4241-bd9a-51279495c3a1",
   "metadata": {},
   "source": [
    "### 1. Identify The Restaurants With The Highest and Lowest Number Of Votes."
   ]
  },
  {
   "cell_type": "code",
   "execution_count": 14,
   "id": "20e19ae6-0582-46a7-a8bb-19c1b2f8c47a",
   "metadata": {},
   "outputs": [
    {
     "data": {
      "text/html": [
       "<div>\n",
       "<style scoped>\n",
       "    .dataframe tbody tr th:only-of-type {\n",
       "        vertical-align: middle;\n",
       "    }\n",
       "\n",
       "    .dataframe tbody tr th {\n",
       "        vertical-align: top;\n",
       "    }\n",
       "\n",
       "    .dataframe thead th {\n",
       "        text-align: right;\n",
       "    }\n",
       "</style>\n",
       "<table border=\"1\" class=\"dataframe\">\n",
       "  <thead>\n",
       "    <tr style=\"text-align: right;\">\n",
       "      <th></th>\n",
       "      <th>Votes</th>\n",
       "      <th>Restaurant Name</th>\n",
       "    </tr>\n",
       "  </thead>\n",
       "  <tbody>\n",
       "    <tr>\n",
       "      <th>0</th>\n",
       "      <td>314</td>\n",
       "      <td>Le Petit Souffle</td>\n",
       "    </tr>\n",
       "    <tr>\n",
       "      <th>1</th>\n",
       "      <td>591</td>\n",
       "      <td>Izakaya Kikufuji</td>\n",
       "    </tr>\n",
       "    <tr>\n",
       "      <th>2</th>\n",
       "      <td>270</td>\n",
       "      <td>Heat - Edsa Shangri-La</td>\n",
       "    </tr>\n",
       "    <tr>\n",
       "      <th>3</th>\n",
       "      <td>365</td>\n",
       "      <td>Ooma</td>\n",
       "    </tr>\n",
       "    <tr>\n",
       "      <th>4</th>\n",
       "      <td>229</td>\n",
       "      <td>Sambo Kojin</td>\n",
       "    </tr>\n",
       "    <tr>\n",
       "      <th>...</th>\n",
       "      <td>...</td>\n",
       "      <td>...</td>\n",
       "    </tr>\n",
       "    <tr>\n",
       "      <th>9546</th>\n",
       "      <td>788</td>\n",
       "      <td>Naml۱ Gurme</td>\n",
       "    </tr>\n",
       "    <tr>\n",
       "      <th>9547</th>\n",
       "      <td>1034</td>\n",
       "      <td>Ceviz A��ac۱</td>\n",
       "    </tr>\n",
       "    <tr>\n",
       "      <th>9548</th>\n",
       "      <td>661</td>\n",
       "      <td>Huqqa</td>\n",
       "    </tr>\n",
       "    <tr>\n",
       "      <th>9549</th>\n",
       "      <td>901</td>\n",
       "      <td>A���k Kahve</td>\n",
       "    </tr>\n",
       "    <tr>\n",
       "      <th>9550</th>\n",
       "      <td>591</td>\n",
       "      <td>Walter's Coffee Roastery</td>\n",
       "    </tr>\n",
       "  </tbody>\n",
       "</table>\n",
       "<p>9551 rows × 2 columns</p>\n",
       "</div>"
      ],
      "text/plain": [
       "      Votes           Restaurant Name\n",
       "0       314          Le Petit Souffle\n",
       "1       591          Izakaya Kikufuji\n",
       "2       270    Heat - Edsa Shangri-La\n",
       "3       365                      Ooma\n",
       "4       229               Sambo Kojin\n",
       "...     ...                       ...\n",
       "9546    788               Naml۱ Gurme\n",
       "9547   1034              Ceviz A��ac۱\n",
       "9548    661                     Huqqa\n",
       "9549    901               A���k Kahve\n",
       "9550    591  Walter's Coffee Roastery\n",
       "\n",
       "[9551 rows x 2 columns]"
      ]
     },
     "execution_count": 14,
     "metadata": {},
     "output_type": "execute_result"
    }
   ],
   "source": [
    "Cognifyz_df_votes=Cognifyz_df[['Votes','Restaurant Name']]\n",
    "Cognifyz_df_votes"
   ]
  },
  {
   "cell_type": "code",
   "execution_count": 15,
   "id": "27d765a8-0ddb-4715-9d39-9162c19c79f7",
   "metadata": {},
   "outputs": [
    {
     "name": "stdout",
     "output_type": "stream",
     "text": [
      "Restaurant with highest votes:\n"
     ]
    },
    {
     "data": {
      "text/plain": [
       "Votes              10934\n",
       "Restaurant Name     Toit\n",
       "Name: 728, dtype: object"
      ]
     },
     "execution_count": 15,
     "metadata": {},
     "output_type": "execute_result"
    }
   ],
   "source": [
    "print('Restaurant with highest votes:')\n",
    "max_votes=Cognifyz_df_votes.loc[Cognifyz_df_votes['Votes'].idxmax()]\n",
    "max_votes"
   ]
  },
  {
   "cell_type": "code",
   "execution_count": 16,
   "id": "c631c1c3-664c-46c5-aaf8-b5b4caddcc74",
   "metadata": {},
   "outputs": [
    {
     "name": "stdout",
     "output_type": "stream",
     "text": [
      "Restaurant with lowest votes:\n"
     ]
    },
    {
     "data": {
      "text/plain": [
       "Votes                             0\n",
       "Restaurant Name    Cantinho da Gula\n",
       "Name: 69, dtype: object"
      ]
     },
     "execution_count": 16,
     "metadata": {},
     "output_type": "execute_result"
    }
   ],
   "source": [
    "print('Restaurant with lowest votes:')\n",
    "min_votes = Cognifyz_df_votes.loc[Cognifyz_df_votes['Votes'].idxmin()] \n",
    "min_votes"
   ]
  },
  {
   "cell_type": "markdown",
   "id": "111ebd49-53b2-440a-b060-70e395c793c7",
   "metadata": {},
   "source": [
    "### 2. Analyze If There Is a Correlation Between The Number Of Votes and The Rating Of a Restaurant."
   ]
  },
  {
   "cell_type": "code",
   "execution_count": 17,
   "id": "1ba28eb3-dd1c-4fd0-a4d5-6f855e91fce9",
   "metadata": {},
   "outputs": [
    {
     "data": {
      "text/html": [
       "<div>\n",
       "<style scoped>\n",
       "    .dataframe tbody tr th:only-of-type {\n",
       "        vertical-align: middle;\n",
       "    }\n",
       "\n",
       "    .dataframe tbody tr th {\n",
       "        vertical-align: top;\n",
       "    }\n",
       "\n",
       "    .dataframe thead th {\n",
       "        text-align: right;\n",
       "    }\n",
       "</style>\n",
       "<table border=\"1\" class=\"dataframe\">\n",
       "  <thead>\n",
       "    <tr style=\"text-align: right;\">\n",
       "      <th></th>\n",
       "      <th>Votes</th>\n",
       "      <th>Aggregate rating</th>\n",
       "    </tr>\n",
       "  </thead>\n",
       "  <tbody>\n",
       "    <tr>\n",
       "      <th>0</th>\n",
       "      <td>314</td>\n",
       "      <td>4.8</td>\n",
       "    </tr>\n",
       "    <tr>\n",
       "      <th>1</th>\n",
       "      <td>591</td>\n",
       "      <td>4.5</td>\n",
       "    </tr>\n",
       "    <tr>\n",
       "      <th>2</th>\n",
       "      <td>270</td>\n",
       "      <td>4.4</td>\n",
       "    </tr>\n",
       "    <tr>\n",
       "      <th>3</th>\n",
       "      <td>365</td>\n",
       "      <td>4.9</td>\n",
       "    </tr>\n",
       "    <tr>\n",
       "      <th>4</th>\n",
       "      <td>229</td>\n",
       "      <td>4.8</td>\n",
       "    </tr>\n",
       "    <tr>\n",
       "      <th>...</th>\n",
       "      <td>...</td>\n",
       "      <td>...</td>\n",
       "    </tr>\n",
       "    <tr>\n",
       "      <th>9546</th>\n",
       "      <td>788</td>\n",
       "      <td>4.1</td>\n",
       "    </tr>\n",
       "    <tr>\n",
       "      <th>9547</th>\n",
       "      <td>1034</td>\n",
       "      <td>4.2</td>\n",
       "    </tr>\n",
       "    <tr>\n",
       "      <th>9548</th>\n",
       "      <td>661</td>\n",
       "      <td>3.7</td>\n",
       "    </tr>\n",
       "    <tr>\n",
       "      <th>9549</th>\n",
       "      <td>901</td>\n",
       "      <td>4.0</td>\n",
       "    </tr>\n",
       "    <tr>\n",
       "      <th>9550</th>\n",
       "      <td>591</td>\n",
       "      <td>4.0</td>\n",
       "    </tr>\n",
       "  </tbody>\n",
       "</table>\n",
       "<p>9551 rows × 2 columns</p>\n",
       "</div>"
      ],
      "text/plain": [
       "      Votes  Aggregate rating\n",
       "0       314               4.8\n",
       "1       591               4.5\n",
       "2       270               4.4\n",
       "3       365               4.9\n",
       "4       229               4.8\n",
       "...     ...               ...\n",
       "9546    788               4.1\n",
       "9547   1034               4.2\n",
       "9548    661               3.7\n",
       "9549    901               4.0\n",
       "9550    591               4.0\n",
       "\n",
       "[9551 rows x 2 columns]"
      ]
     },
     "execution_count": 17,
     "metadata": {},
     "output_type": "execute_result"
    }
   ],
   "source": [
    "Cognifyz_df_analysis = Cognifyz_df[['Votes','Aggregate rating']].copy()\n",
    "Cognifyz_df_analysis"
   ]
  },
  {
   "cell_type": "code",
   "execution_count": 18,
   "id": "fa932986-0303-4e75-8c24-67ac268b7eee",
   "metadata": {},
   "outputs": [
    {
     "data": {
      "text/plain": [
       "0.31369058419541135"
      ]
     },
     "execution_count": 18,
     "metadata": {},
     "output_type": "execute_result"
    }
   ],
   "source": [
    "corr=Cognifyz_df_analysis['Votes'].corr(Cognifyz_df_analysis[\"Aggregate rating\"])\n",
    "corr"
   ]
  },
  {
   "cell_type": "code",
   "execution_count": 19,
   "id": "03b4a3a8-c692-464a-a8c5-f5135c4d8054",
   "metadata": {},
   "outputs": [
    {
     "data": {
      "image/png": "[encoded data removed]",
      "text/plain": [
       "<Figure size 500x500 with 1 Axes>"
      ]
     },
     "metadata": {},
     "output_type": "display_data"
    }
   ],
   "source": [
    "plt.figure(figsize=(5,5))\n",
    "sns.scatterplot(x='Votes',y='Aggregate rating',data=Cognifyz_df_analysis)\n",
    "plt.title('Relation between Number of votes and Restaurant Rating')\n",
    "plt.xlabel(\"Number of Votes\")\n",
    "plt.ylabel('Aggregate Rating')\n",
    "plt.show()"
   ]
  },
  {
   "cell_type": "markdown",
   "id": "5766212a-8273-4dd6-bcd7-205037d6d1cb",
   "metadata": {},
   "source": [
    "## Price Range V/S Online Delivery and Table Booking - Task 3"
   ]
  },
  {
   "cell_type": "markdown",
   "id": "4bf970a2-62e3-4e8d-a769-3f6f9e21e47b",
   "metadata": {},
   "source": [
    "### 1. Analyze If There Is a Relationship Between The Price Range and The Availability Of Online Delivery and Table Booking."
   ]
  },
  {
   "cell_type": "code",
   "execution_count": 20,
   "id": "5f6f77c2-05b2-44bc-8e1a-f659ed7ed97d",
   "metadata": {},
   "outputs": [],
   "source": [
    "Cognifyz_idf_analysis = Cognifyz_df[['Price range', 'Has Table booking']].copy()\n",
    "Cognifyz_idf_analysis['Has Online delivery'] = Cognifyz_df['Has Online delivery'].map({'Yes': True, 'No': False})\n",
    "Cognifyz_idf_analysis['Has Table booking'] = Cognifyz_df['Has Table booking'].map({'Yes': True, 'No': False})"
   ]
  },
  {
   "cell_type": "code",
   "execution_count": 21,
   "id": "e111905b-99d7-49b1-b99c-3674d3939f3f",
   "metadata": {},
   "outputs": [],
   "source": [
    "summary_table = pd.pivot_table(Cognifyz_idf_analysis, index='Price range', values=['Has Online delivery', 'Has Table booking'], aggfunc='sum')"
   ]
  },
  {
   "cell_type": "code",
   "execution_count": 22,
   "id": "1fb94f9f-1525-42ea-a170-d4b3386d2681",
   "metadata": {},
   "outputs": [
    {
     "name": "stdout",
     "output_type": "stream",
     "text": [
      "Summary Table:\n"
     ]
    },
    {
     "data": {
      "text/html": [
       "<div>\n",
       "<style scoped>\n",
       "    .dataframe tbody tr th:only-of-type {\n",
       "        vertical-align: middle;\n",
       "    }\n",
       "\n",
       "    .dataframe tbody tr th {\n",
       "        vertical-align: top;\n",
       "    }\n",
       "\n",
       "    .dataframe thead th {\n",
       "        text-align: right;\n",
       "    }\n",
       "</style>\n",
       "<table border=\"1\" class=\"dataframe\">\n",
       "  <thead>\n",
       "    <tr style=\"text-align: right;\">\n",
       "      <th></th>\n",
       "      <th>Has Online delivery</th>\n",
       "      <th>Has Table booking</th>\n",
       "    </tr>\n",
       "    <tr>\n",
       "      <th>Price range</th>\n",
       "      <th></th>\n",
       "      <th></th>\n",
       "    </tr>\n",
       "  </thead>\n",
       "  <tbody>\n",
       "    <tr>\n",
       "      <th>1</th>\n",
       "      <td>701</td>\n",
       "      <td>1</td>\n",
       "    </tr>\n",
       "    <tr>\n",
       "      <th>2</th>\n",
       "      <td>1286</td>\n",
       "      <td>239</td>\n",
       "    </tr>\n",
       "    <tr>\n",
       "      <th>3</th>\n",
       "      <td>411</td>\n",
       "      <td>644</td>\n",
       "    </tr>\n",
       "    <tr>\n",
       "      <th>4</th>\n",
       "      <td>53</td>\n",
       "      <td>274</td>\n",
       "    </tr>\n",
       "  </tbody>\n",
       "</table>\n",
       "</div>"
      ],
      "text/plain": [
       "             Has Online delivery  Has Table booking\n",
       "Price range                                        \n",
       "1                            701                  1\n",
       "2                           1286                239\n",
       "3                            411                644\n",
       "4                             53                274"
      ]
     },
     "execution_count": 22,
     "metadata": {},
     "output_type": "execute_result"
    }
   ],
   "source": [
    "print('Summary Table:')\n",
    "summary_table"
   ]
  },
  {
   "cell_type": "code",
   "execution_count": 23,
   "id": "3c105a34-d2cf-4984-b124-73465494f9d6",
   "metadata": {},
   "outputs": [
    {
     "data": {
      "text/plain": [
       "<Figure size 1000x800 with 0 Axes>"
      ]
     },
     "metadata": {},
     "output_type": "display_data"
    },
    {
     "data": {
      "image/png": "[encoded data removed]",
      "text/plain": [
       "<Figure size 640x480 with 1 Axes>"
      ]
     },
     "metadata": {},
     "output_type": "display_data"
    }
   ],
   "source": [
    "plt.figure(figsize=(10,8))\n",
    "summary_table.plot(kind='bar',stacked=True,colormap='viridis')\n",
    "plt.title('Relationship between price range and Availibiity')\n",
    "plt.xlabel('Price range')\n",
    "plt.ylabel('Count')\n",
    "plt.legend(title='Feature',loc='upper left')\n",
    "plt.show()"
   ]
  },
  {
   "cell_type": "markdown",
   "id": "50fc9e62-6e30-416f-8635-e673095d0036",
   "metadata": {},
   "source": [
    "### 2. Determine If Higher - Priced Restaurants are More Likely To Offer These Services."
   ]
  },
  {
   "cell_type": "code",
   "execution_count": 24,
   "id": "e53956c3-219b-4093-8bf8-bc451c009328",
   "metadata": {},
   "outputs": [
    {
     "data": {
      "image/png": "[encoded data removed]",
      "text/plain": [
       "<Figure size 1000x600 with 2 Axes>"
      ]
     },
     "metadata": {},
     "output_type": "display_data"
    }
   ],
   "source": [
    "import matplotlib.pyplot as plt\n",
    "import seaborn as sns\n",
    "\n",
    "# Convert boolean values to strings\n",
    "Cognifyz_idf_analysis['Has Online delivery'] = Cognifyz_idf_analysis['Has Online delivery'].astype(str)\n",
    "Cognifyz_idf_analysis['Has Table booking'] = Cognifyz_idf_analysis['Has Table booking'].astype(str)\n",
    "\n",
    "plt.figure(figsize=(10, 6))\n",
    "\n",
    "plt.subplot(1, 2, 1)\n",
    "sns.countplot(x='Price range', hue='Has Online delivery', data=Cognifyz_idf_analysis, palette='viridis')\n",
    "plt.title('Online Delivery Availability by Price Range')\n",
    "\n",
    "plt.subplot(1, 2, 2)\n",
    "sns.countplot(x='Price range', hue='Has Table booking', data=Cognifyz_idf_analysis, palette='viridis')\n",
    "plt.title('Table Booking Availability by Price Range')\n",
    "\n",
    "plt.tight_layout()\n",
    "plt.show()"
   ]
  },
  {
   "cell_type": "markdown",
   "id": "038fc8d2-82a8-468d-8597-713d5e91870d",
   "metadata": {},
   "source": [
    "# THANK YOU !!!....."
   ]
  },
  {
   "cell_type": "code",
   "execution_count": null,
   "id": "a6d840ff-9d6e-4865-9484-45b8fa1951b9",
   "metadata": {},
   "outputs": [],
   "source": []
  }
 ],
 "metadata": {
  "kernelspec": {
   "display_name": "Python 3 (ipykernel)",
   "language": "python",
   "name": "python3"
  },
  "language_info": {
   "codemirror_mode": {
    "name": "ipython",
    "version": 3
   },
   "file_extension": ".py",
   "mimetype": "text/x-python",
   "name": "python",
   "nbconvert_exporter": "python",
   "pygments_lexer": "ipython3",
   "version": "3.11.7"
  }
 },
 "nbformat": 4,
 "nbformat_minor": 5
}
